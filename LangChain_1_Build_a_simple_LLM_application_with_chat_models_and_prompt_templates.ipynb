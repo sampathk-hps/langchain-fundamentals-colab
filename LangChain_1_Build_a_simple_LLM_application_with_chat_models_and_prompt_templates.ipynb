{
  "nbformat": 4,
  "nbformat_minor": 0,
  "metadata": {
    "colab": {
      "provenance": [],
      "authorship_tag": "ABX9TyNL8Ic+JVqDsuQz1qWIjUAw",
      "include_colab_link": true
    },
    "kernelspec": {
      "name": "python3",
      "display_name": "Python 3"
    },
    "language_info": {
      "name": "python"
    }
  },
  "cells": [
    {
      "cell_type": "markdown",
      "metadata": {
        "id": "view-in-github",
        "colab_type": "text"
      },
      "source": [
        "<a href=\"https://colab.research.google.com/github/sampathk-hps/langchain-fundamentals-colab/blob/main/LangChain_1_Build_a_simple_LLM_application_with_chat_models_and_prompt_templates.ipynb\" target=\"_parent\"><img src=\"https://colab.research.google.com/assets/colab-badge.svg\" alt=\"Open In Colab\"/></a>"
      ]
    },
    {
      "cell_type": "markdown",
      "source": [
        "## Installation"
      ],
      "metadata": {
        "id": "2XunQyRBJJV0"
      }
    },
    {
      "cell_type": "code",
      "execution_count": null,
      "metadata": {
        "colab": {
          "base_uri": "https://localhost:8080/"
        },
        "id": "717xl3vTIlRz",
        "outputId": "6bcb5b62-bdd8-4315-a41b-7f2aa7d5f839"
      },
      "outputs": [
        {
          "output_type": "stream",
          "name": "stdout",
          "text": [
            "Requirement already satisfied: langchain in /usr/local/lib/python3.12/dist-packages (0.3.27)\n",
            "Requirement already satisfied: langchain-core<1.0.0,>=0.3.72 in /usr/local/lib/python3.12/dist-packages (from langchain) (0.3.76)\n",
            "Requirement already satisfied: langchain-text-splitters<1.0.0,>=0.3.9 in /usr/local/lib/python3.12/dist-packages (from langchain) (0.3.11)\n",
            "Requirement already satisfied: langsmith>=0.1.17 in /usr/local/lib/python3.12/dist-packages (from langchain) (0.4.28)\n",
            "Requirement already satisfied: pydantic<3.0.0,>=2.7.4 in /usr/local/lib/python3.12/dist-packages (from langchain) (2.11.9)\n",
            "Requirement already satisfied: SQLAlchemy<3,>=1.4 in /usr/local/lib/python3.12/dist-packages (from langchain) (2.0.43)\n",
            "Requirement already satisfied: requests<3,>=2 in /usr/local/lib/python3.12/dist-packages (from langchain) (2.32.4)\n",
            "Requirement already satisfied: PyYAML>=5.3 in /usr/local/lib/python3.12/dist-packages (from langchain) (6.0.2)\n",
            "Requirement already satisfied: tenacity!=8.4.0,<10.0.0,>=8.1.0 in /usr/local/lib/python3.12/dist-packages (from langchain-core<1.0.0,>=0.3.72->langchain) (8.5.0)\n",
            "Requirement already satisfied: jsonpatch<2.0,>=1.33 in /usr/local/lib/python3.12/dist-packages (from langchain-core<1.0.0,>=0.3.72->langchain) (1.33)\n",
            "Requirement already satisfied: typing-extensions>=4.7 in /usr/local/lib/python3.12/dist-packages (from langchain-core<1.0.0,>=0.3.72->langchain) (4.15.0)\n",
            "Requirement already satisfied: packaging>=23.2 in /usr/local/lib/python3.12/dist-packages (from langchain-core<1.0.0,>=0.3.72->langchain) (25.0)\n",
            "Requirement already satisfied: httpx<1,>=0.23.0 in /usr/local/lib/python3.12/dist-packages (from langsmith>=0.1.17->langchain) (0.28.1)\n",
            "Requirement already satisfied: orjson>=3.9.14 in /usr/local/lib/python3.12/dist-packages (from langsmith>=0.1.17->langchain) (3.11.3)\n",
            "Requirement already satisfied: requests-toolbelt>=1.0.0 in /usr/local/lib/python3.12/dist-packages (from langsmith>=0.1.17->langchain) (1.0.0)\n",
            "Requirement already satisfied: zstandard>=0.23.0 in /usr/local/lib/python3.12/dist-packages (from langsmith>=0.1.17->langchain) (0.25.0)\n",
            "Requirement already satisfied: annotated-types>=0.6.0 in /usr/local/lib/python3.12/dist-packages (from pydantic<3.0.0,>=2.7.4->langchain) (0.7.0)\n",
            "Requirement already satisfied: pydantic-core==2.33.2 in /usr/local/lib/python3.12/dist-packages (from pydantic<3.0.0,>=2.7.4->langchain) (2.33.2)\n",
            "Requirement already satisfied: typing-inspection>=0.4.0 in /usr/local/lib/python3.12/dist-packages (from pydantic<3.0.0,>=2.7.4->langchain) (0.4.1)\n",
            "Requirement already satisfied: charset_normalizer<4,>=2 in /usr/local/lib/python3.12/dist-packages (from requests<3,>=2->langchain) (3.4.3)\n",
            "Requirement already satisfied: idna<4,>=2.5 in /usr/local/lib/python3.12/dist-packages (from requests<3,>=2->langchain) (3.10)\n",
            "Requirement already satisfied: urllib3<3,>=1.21.1 in /usr/local/lib/python3.12/dist-packages (from requests<3,>=2->langchain) (2.5.0)\n",
            "Requirement already satisfied: certifi>=2017.4.17 in /usr/local/lib/python3.12/dist-packages (from requests<3,>=2->langchain) (2025.8.3)\n",
            "Requirement already satisfied: greenlet>=1 in /usr/local/lib/python3.12/dist-packages (from SQLAlchemy<3,>=1.4->langchain) (3.2.4)\n",
            "Requirement already satisfied: anyio in /usr/local/lib/python3.12/dist-packages (from httpx<1,>=0.23.0->langsmith>=0.1.17->langchain) (4.10.0)\n",
            "Requirement already satisfied: httpcore==1.* in /usr/local/lib/python3.12/dist-packages (from httpx<1,>=0.23.0->langsmith>=0.1.17->langchain) (1.0.9)\n",
            "Requirement already satisfied: h11>=0.16 in /usr/local/lib/python3.12/dist-packages (from httpcore==1.*->httpx<1,>=0.23.0->langsmith>=0.1.17->langchain) (0.16.0)\n",
            "Requirement already satisfied: jsonpointer>=1.9 in /usr/local/lib/python3.12/dist-packages (from jsonpatch<2.0,>=1.33->langchain-core<1.0.0,>=0.3.72->langchain) (3.0.0)\n",
            "Requirement already satisfied: sniffio>=1.1 in /usr/local/lib/python3.12/dist-packages (from anyio->httpx<1,>=0.23.0->langsmith>=0.1.17->langchain) (1.3.1)\n"
          ]
        }
      ],
      "source": [
        "pip install langchain"
      ]
    },
    {
      "cell_type": "code",
      "source": [
        "pip install python-dotenv"
      ],
      "metadata": {
        "colab": {
          "base_uri": "https://localhost:8080/"
        },
        "id": "kcGnD10ZMT6a",
        "outputId": "49d0c1d0-4f1b-4129-f898-5d912052d697"
      },
      "execution_count": null,
      "outputs": [
        {
          "output_type": "stream",
          "name": "stdout",
          "text": [
            "Requirement already satisfied: python-dotenv in /usr/local/lib/python3.12/dist-packages (1.1.1)\n"
          ]
        }
      ]
    },
    {
      "cell_type": "markdown",
      "source": [
        "## LangSmith\n",
        "\n",
        "Many of the applications you build with LangChain will contain multiple steps with multiple invocations of LLM calls. As these applications get more and more complex, it becomes crucial to be able to inspect what exactly is going on inside your chain or agent. The best way to do this is with LangSmith."
      ],
      "metadata": {
        "id": "hkdH2UvWJRfh"
      }
    },
    {
      "cell_type": "markdown",
      "source": [
        "1. Add keys direclty by creating the file"
      ],
      "metadata": {
        "id": "jE25BayOM-Ew"
      }
    },
    {
      "cell_type": "code",
      "metadata": {
        "id": "db294f45"
      },
      "source": [
        "with open('.env', 'w') as f:\n",
        "    f.write('LANGSMITH_TRACING=\"true\"\\n')\n",
        "    f.write('LANGSMITH_API_KEY=\"enter_your_key\"\\n')\n",
        "    f.write('LANGSMITH_PROJECT=\"default\"\\n')"
      ],
      "execution_count": null,
      "outputs": []
    },
    {
      "cell_type": "markdown",
      "source": [
        "2. Add keys by using python_dotenv"
      ],
      "metadata": {
        "id": "r5un2tiTNEgV"
      }
    },
    {
      "cell_type": "code",
      "source": [
        "import os\n",
        "import getpass\n",
        "\n",
        "try:\n",
        "  from dotenv import load_dotenv\n",
        "  load_dotenv()\n",
        "except ImportError:\n",
        "  pass\n",
        "\n",
        "os.environ[\"LANGSMITH_TRACING\"] = \"true\"\n",
        "if \"LANGSMITH_API_KEY\" not in os.environ:\n",
        "    os.environ[\"LANGSMITH_API_KEY\"] = getpass.getpass(\n",
        "        prompt=\"Enter your LangSmith API key (optional): \"\n",
        "    )\n",
        "if \"LANGSMITH_PROJECT\" not in os.environ:\n",
        "    os.environ[\"LANGSMITH_PROJECT\"] = getpass.getpass(\n",
        "        prompt='Enter your LangSmith Project Name (default = \"default\"): '\n",
        "    )\n",
        "    if not os.environ.get(\"LANGSMITH_PROJECT\"):\n",
        "        os.environ[\"LANGSMITH_PROJECT\"] = \"default\""
      ],
      "metadata": {
        "id": "E7Fl5yQQMJMD"
      },
      "execution_count": null,
      "outputs": []
    },
    {
      "cell_type": "code",
      "source": [
        "print(os.environ.get('LANGSMITH_TRACING'))\n",
        "print(os.environ.get('LANGSMITH_API_KEY'))\n",
        "print(os.environ.get('LANGSMITH_PROJECT'))"
      ],
      "metadata": {
        "id": "VY6G3ijiMJE2"
      },
      "execution_count": null,
      "outputs": []
    },
    {
      "cell_type": "markdown",
      "source": [
        "## Using LLM"
      ],
      "metadata": {
        "id": "XDK02cU8O4yi"
      }
    },
    {
      "cell_type": "code",
      "source": [
        "pip install -qU \"langchain-perplexity\""
      ],
      "metadata": {
        "id": "lWMzAaYBO1SL"
      },
      "execution_count": null,
      "outputs": []
    },
    {
      "cell_type": "code",
      "source": [
        "if not os.environ.get(\"PPLX_API_KEY\"):\n",
        "  os.environ[\"PPLX_API_KEY\"] = getpass.getpass(\"Enter API key for Perplexity: \")\n",
        "\n",
        "from langchain.chat_models import init_chat_model\n",
        "\n",
        "model = init_chat_model(\"sonar\", model_provider=\"perplexity\")"
      ],
      "metadata": {
        "id": "4zj93TJ_PFEq"
      },
      "execution_count": null,
      "outputs": []
    },
    {
      "cell_type": "markdown",
      "source": [
        "Let's first use the model directly. ChatModels are instances of LangChain Runnables, which means they expose a standard interface for interacting with them. To simply call the model, we can pass in a list of messages to the .invoke method."
      ],
      "metadata": {
        "id": "mvtLmiDwPbfl"
      }
    },
    {
      "cell_type": "code",
      "source": [
        "from langchain_core.messages import HumanMessage, SystemMessage\n",
        "\n",
        "messages = [SystemMessage(content=\"You are a helpful assistant.\"), HumanMessage(content=\"What is the capital of France?\")]\n",
        "\n",
        "model.invoke(messages)"
      ],
      "metadata": {
        "colab": {
          "base_uri": "https://localhost:8080/"
        },
        "collapsed": true,
        "id": "D3Ju3sp1PcWp",
        "outputId": "28ca4894-8c41-435e-88b1-9950aae139b7"
      },
      "execution_count": null,
      "outputs": [
        {
          "output_type": "execute_result",
          "data": {
            "text/plain": [
              "AIMessage(content='The **capital of France is Paris**. It is the largest city in France and a major cultural, commercial, and political center[1][2][3].\\n\\nParis has a rich history as the capital, officially becoming so in 508 under King Clovis and retaining this status except for a brief period during World War II when Vichy was the capital under German occupation[1][3]. Known as the \"City of Light\" and \"City of Love,\" Paris is famous for its historic landmarks such as the Eiffel Tower, Louvre Museum, Notre Dame Cathedral, and its influence in fashion, gastronomy, and the arts[1][5][6].\\n\\nParis is located in the north-central part of France along the Seine River and remains the political and administrative heart of the country[2][6].', additional_kwargs={'citations': ['https://home.adelphi.edu/~ca19535/page%204.html', 'https://www.britannica.com/place/France', 'https://en.wikipedia.org/wiki/List_of_capitals_of_France', 'https://www.youtube.com/watch?v=6qY9QHrJOng', 'https://www.iroamly.com/france-travel/what-is-the-capital-of-france.html', 'https://www.britannica.com/place/Paris', 'https://en.wikipedia.org/wiki/Paris', 'https://www.cia-france.com/french-kids-teenage-courses/paris-school/visit-paris', 'https://www.youtube.com/watch?v=_6UBxbX4GiQ'], 'search_results': [{'title': 'Paris facts: the capital of France in history', 'url': 'https://home.adelphi.edu/~ca19535/page%204.html', 'date': '2000-01-01', 'last_updated': '2025-10-02', 'snippet': 'Paris is the capital of France, the largest country of Europe with 550 000 km2 (65 millions inhabitants). Paris has 2.234 million inhabitants end 2011.', 'source': 'web'}, {'title': 'France | History, Maps, Flag, Population, Cities, Capital, & Facts', 'url': 'https://www.britannica.com/place/France', 'date': '2025-10-02', 'last_updated': '2025-10-03', 'snippet': \"The capital and by far the most important city of France is Paris, one of the world's preeminent cultural and commercial centres.\", 'source': 'web'}, {'title': 'List of capitals of France - Wikipedia', 'url': 'https://en.wikipedia.org/wiki/List_of_capitals_of_France', 'date': '2003-01-15', 'last_updated': '2025-09-03', 'snippet': 'This is a chronological list of capitals of France. The capital of France has been Paris since its liberation in 1944.', 'source': 'web'}, {'title': 'Paris Is The Capital City Of France! - KLT Geography - YouTube', 'url': 'https://www.youtube.com/watch?v=6qY9QHrJOng', 'date': '2023-08-29', 'last_updated': '2025-07-10', 'snippet': 'Paris Is The Capital City Of France! | The Paris Song | KLT Geography. 8.6K views · 2 years ago #kltgeo #klt #paris ...more ...', 'source': 'web'}, {'title': 'What is the capital of France? Overview of Paris - iRoamly Travel eSIM', 'url': 'https://www.iroamly.com/france-travel/what-is-the-capital-of-france.html', 'date': '2024-11-28', 'last_updated': '2025-10-02', 'snippet': \"Paris is the capital of France, known as the 'City of Light' and 'City of Love'.\", 'source': 'web'}, {'title': 'Paris | Definition, Map, Population, Facts, & History | Britannica', 'url': 'https://www.britannica.com/place/Paris', 'date': '2025-10-02', 'last_updated': '2025-10-02', 'snippet': \"Paris, city and capital of France, located along the Seine River, in the north-central part of the country. Paris is one of the world's most important and ...\", 'source': 'web'}, {'title': 'Paris - Wikipedia', 'url': 'https://en.wikipedia.org/wiki/Paris', 'date': '2001-11-06', 'last_updated': '2025-09-27', 'snippet': 'Paris is the capital and largest city of France, with an estimated city center population of 2,048,472, and a metropolitan population of 13,171,056 as of ...', 'source': 'web'}, {'title': 'Discover the city of Paris | Paris the capital city of France', 'url': 'https://www.cia-france.com/french-kids-teenage-courses/paris-school/visit-paris', 'date': '2022-12-01', 'last_updated': '2025-08-29', 'snippet': 'Paris is the city of romance par excellence, the fashion capital and the best example of French art de vivre. Exploring Paris is an essential rite of passage ...', 'source': 'web'}, {'title': 'Paris 4K - Paris Capital Of France In 4K | - YouTube', 'url': 'https://www.youtube.com/watch?v=_6UBxbX4GiQ', 'date': '2024-12-07', 'last_updated': '2025-08-10', 'snippet': 'Paris Capital City Of France In 4K Ultra HD Video | Paris, France Capital And Largest City | Paris Is A Major European City And A Global ...', 'source': 'web'}]}, response_metadata={'model_name': 'sonar'}, id='run--c29eb246-99e8-42ff-b1e9-033fd4f2eaa7-0', usage_metadata={'input_tokens': 13, 'output_tokens': 166, 'total_tokens': 179})"
            ]
          },
          "metadata": {},
          "execution_count": 18
        }
      ]
    },
    {
      "cell_type": "code",
      "source": [
        "messages = [\n",
        "    SystemMessage(content=\"Translate the following from English into Kannada\"),\n",
        "    HumanMessage(content=\"hi!\"),\n",
        "]\n",
        "\n",
        "response = model.invoke(messages)\n",
        "print(response.content)"
      ],
      "metadata": {
        "colab": {
          "base_uri": "https://localhost:8080/"
        },
        "id": "G_4MeJaKQHNk",
        "outputId": "a2faac9c-3d25-4daf-d424-8ed7a5628212"
      },
      "execution_count": null,
      "outputs": [
        {
          "output_type": "stream",
          "name": "stdout",
          "text": [
            "\"Hi!\" ಅನ್ನು ಕನ್ನಡದಲ್ಲಿ \"ಹಾಯ್!\" ಎಂದು ಅನುವಾದಿಸುತ್ತಾರೆ.\n"
          ]
        }
      ]
    },
    {
      "cell_type": "markdown",
      "source": [
        "Because chat models are Runnables, they expose a standard interface that includes async and streaming modes of invocation. This allows us to stream individual tokens from a chat model:"
      ],
      "metadata": {
        "id": "D0qkCJSySgtY"
      }
    },
    {
      "cell_type": "code",
      "source": [
        "messages = [\n",
        "    SystemMessage(content=\"Translate the following from English into Kannada\"),\n",
        "    HumanMessage(content=\"What is your name?\"),\n",
        "]\n",
        "for token in model.stream(messages):\n",
        "    print(token.content, end=\"|\")"
      ],
      "metadata": {
        "colab": {
          "base_uri": "https://localhost:8080/"
        },
        "id": "2XMY3FU-SRBU",
        "outputId": "e9f1473f-3b00-4da2-ae80-73c5dc852584"
      },
      "execution_count": null,
      "outputs": [
        {
          "output_type": "stream",
          "name": "stdout",
          "text": [
            "ನ|ಿಮ|್ಮ| ಹೆಸರು| ಏ|ನು|?||"
          ]
        }
      ]
    },
    {
      "cell_type": "markdown",
      "source": [
        "Prompt templates are a concept in LangChain designed to assist with the transformation - take raw user input and transform it into list of user messages ready to pass to LLM. They take in raw user input and return data (a prompt) that is ready to pass into a language model."
      ],
      "metadata": {
        "id": "y0M5RWgmTScJ"
      }
    },
    {
      "cell_type": "code",
      "source": [
        "from langchain_core.prompts import ChatPromptTemplate\n",
        "\n",
        "system_template = \"You are a helpful assistant that translates from English to {output_language}.\"\n",
        "\n",
        "prompt_template = ChatPromptTemplate.from_messages([\n",
        "    (\"system\", system_template),\n",
        "    (\"user\", \"{text}\"),\n",
        "])\n",
        "\n",
        "# The input to this prompt template is a dictionary.\n",
        "prompt = prompt_template.invoke({\"output_language\": \"Kannada\", \"text\": \"What is the time?\"})\n",
        "\n",
        "prompt"
      ],
      "metadata": {
        "colab": {
          "base_uri": "https://localhost:8080/"
        },
        "id": "CTDUwfIPTTVb",
        "outputId": "5b4a5c48-4a11-4b85-d4ff-921e4d4957ad"
      },
      "execution_count": null,
      "outputs": [
        {
          "output_type": "execute_result",
          "data": {
            "text/plain": [
              "ChatPromptValue(messages=[SystemMessage(content='You are a helpful assistant that translates from English to Kannada.', additional_kwargs={}, response_metadata={}), HumanMessage(content='What is the time?', additional_kwargs={}, response_metadata={})])"
            ]
          },
          "metadata": {},
          "execution_count": 24
        }
      ]
    },
    {
      "cell_type": "code",
      "source": [
        "prompt.to_messages()"
      ],
      "metadata": {
        "colab": {
          "base_uri": "https://localhost:8080/"
        },
        "id": "2p8aGWOBVE3J",
        "outputId": "5d677712-7820-415c-f3aa-28007488f0f7"
      },
      "execution_count": null,
      "outputs": [
        {
          "output_type": "execute_result",
          "data": {
            "text/plain": [
              "[SystemMessage(content='You are a helpful assistant that translates from English to Kannada.', additional_kwargs={}, response_metadata={}),\n",
              " HumanMessage(content='What is the time?', additional_kwargs={}, response_metadata={})]"
            ]
          },
          "metadata": {},
          "execution_count": 25
        }
      ]
    },
    {
      "cell_type": "code",
      "source": [
        "response = model.invoke(prompt)\n",
        "print(response.content)"
      ],
      "metadata": {
        "colab": {
          "base_uri": "https://localhost:8080/"
        },
        "id": "TA3rFRfYVTN8",
        "outputId": "67dec54d-c1f1-448d-b062-ccaba7f2f75e"
      },
      "execution_count": null,
      "outputs": [
        {
          "output_type": "stream",
          "name": "stdout",
          "text": [
            "ಸಮಯ ಏನು? ಪ್ರಸ್ತುತ ಸಮಯವು ಕ್ಯೂಪರ್ಟಿನೊ, CAಯಲ್ಲಿ ಸಂಜೆ 9:29 PM ಆಗಿದೆ. ಇದು ಪ್ಯಾಸಿಫಿಕ್ ಡೇಲೈಟ್ ಟೈಮ್ (PDT)ನಲ್ಲಿದೆ, ಇದು UTC-7 ಗೆ ಸಮಾನವಾಗಿದೆ[2]. \n",
            "\n",
            "ಇದನ್ನು ಕನ್ನಡದಲ್ಲಿ ವಿವರಿಸಿದರೆ, ಸಮಯವು ಕ್ಯೂಪರ್ಟಿನೊ, CAಯಲ್ಲಿ ಸಂಜೆ 9:29 PM ಆಗಿದೆ. ಇದು ಪ್ಯಾಸಿಫಿಕ್ ಡೇಲೈಟ್ ಸಮಯ (PDT) ವಲಯದಲ್ಲಿದೆ, ಇದು UTC-7 ಗೆ ಸಮನಾಗಿದೆ. \n",
            "\n",
            "ನಿಮ್ಮ ಸ್ಥಳದ ಸಮಯವನ್ನು ತಿಳಿಯಲು, ನಿಮ್ಮ ನಗರದ ಸಮಯ ವಲಯವನ್ನು ತಿಳಿದುಕೊಳ್ಳಿ ಮತ್ತು ಅದನ್ನು ಪ್ಯಾಸಿಫಿಕ್ ಡೇಲೈಟ್ ಟೈಮ್ (PDT) ಜೊತೆ ಹೋಲಿಸಿ.\n"
          ]
        }
      ]
    },
    {
      "cell_type": "markdown",
      "source": [
        "## Using Local LLMs"
      ],
      "metadata": {
        "id": "6JfY509WWo7X"
      }
    },
    {
      "cell_type": "code",
      "source": [
        "!pip install ollama"
      ],
      "metadata": {
        "colab": {
          "base_uri": "https://localhost:8080/"
        },
        "id": "IpFUzke7Wseo",
        "outputId": "afd93349-955c-43dc-d0e5-4657e0e7e700"
      },
      "execution_count": null,
      "outputs": [
        {
          "output_type": "stream",
          "name": "stdout",
          "text": [
            "Requirement already satisfied: ollama in /usr/local/lib/python3.12/dist-packages (0.6.0)\n",
            "Requirement already satisfied: httpx>=0.27 in /usr/local/lib/python3.12/dist-packages (from ollama) (0.28.1)\n",
            "Requirement already satisfied: pydantic>=2.9 in /usr/local/lib/python3.12/dist-packages (from ollama) (2.11.9)\n",
            "Requirement already satisfied: anyio in /usr/local/lib/python3.12/dist-packages (from httpx>=0.27->ollama) (4.10.0)\n",
            "Requirement already satisfied: certifi in /usr/local/lib/python3.12/dist-packages (from httpx>=0.27->ollama) (2025.8.3)\n",
            "Requirement already satisfied: httpcore==1.* in /usr/local/lib/python3.12/dist-packages (from httpx>=0.27->ollama) (1.0.9)\n",
            "Requirement already satisfied: idna in /usr/local/lib/python3.12/dist-packages (from httpx>=0.27->ollama) (3.10)\n",
            "Requirement already satisfied: h11>=0.16 in /usr/local/lib/python3.12/dist-packages (from httpcore==1.*->httpx>=0.27->ollama) (0.16.0)\n",
            "Requirement already satisfied: annotated-types>=0.6.0 in /usr/local/lib/python3.12/dist-packages (from pydantic>=2.9->ollama) (0.7.0)\n",
            "Requirement already satisfied: pydantic-core==2.33.2 in /usr/local/lib/python3.12/dist-packages (from pydantic>=2.9->ollama) (2.33.2)\n",
            "Requirement already satisfied: typing-extensions>=4.12.2 in /usr/local/lib/python3.12/dist-packages (from pydantic>=2.9->ollama) (4.15.0)\n",
            "Requirement already satisfied: typing-inspection>=0.4.0 in /usr/local/lib/python3.12/dist-packages (from pydantic>=2.9->ollama) (0.4.1)\n",
            "Requirement already satisfied: sniffio>=1.1 in /usr/local/lib/python3.12/dist-packages (from anyio->httpx>=0.27->ollama) (1.3.1)\n"
          ]
        }
      ]
    },
    {
      "cell_type": "code",
      "metadata": {
        "colab": {
          "base_uri": "https://localhost:8080/"
        },
        "id": "d21b8475",
        "outputId": "a25fe0c2-98ae-4380-9f03-2da50707b434"
      },
      "source": [
        "# Replace with the address of your remote Ollama instance\n",
        "ollama_url = \"http://localhost:11434\"\n",
        "\n",
        "try:\n",
        "    import ollama\n",
        "    client = ollama.Client(host=ollama_url)\n",
        "    print(client.list())\n",
        "except Exception as e:\n",
        "    print(f\"Could not connect to Ollama server at {ollama_url}. Please ensure a remote Ollama instance is running and accessible.\")\n",
        "    print(f\"Error: {e}\")"
      ],
      "execution_count": null,
      "outputs": [
        {
          "output_type": "stream",
          "name": "stdout",
          "text": [
            "Could not connect to Ollama server at http://localhost:11434. Please ensure a remote Ollama instance is running and accessible.\n",
            "Error: Failed to connect to Ollama. Please check that Ollama is downloaded, running and accessible. https://ollama.com/download\n"
          ]
        }
      ]
    }
  ]
}